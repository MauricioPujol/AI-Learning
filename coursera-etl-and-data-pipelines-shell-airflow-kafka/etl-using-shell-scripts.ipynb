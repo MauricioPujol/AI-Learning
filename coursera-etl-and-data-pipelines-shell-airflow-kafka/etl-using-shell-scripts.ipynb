{
 "cells": [
  {
   "attachments": {},
   "cell_type": "markdown",
   "metadata": {},
   "source": [
    "<h1>Linux Commands and Shell Scripting</h1>"
   ]
  },
  {
   "attachments": {},
   "cell_type": "markdown",
   "metadata": {},
   "source": [
    "A shell is a powerful user interface for Unix-like operating systems. It can interpret commands and run other programs. It also enables access to files, utilities, and applications, and is an interactive scripting language. Additionally, you can use a shell to automate tasks.\n",
    "\n",
    "<strong>Linux shell commands are used for navigating and working with files and directories. You can also use them for file compression and archiving. </strong>\n"
   ]
  },
  {
   "attachments": {},
   "cell_type": "markdown",
   "metadata": {},
   "source": [
    "ETL stands for Extract, Transform, and Load, and refers to the process of curating data from multiple sources, conforming it to a unified data format or structure, and loading the transformed data into its new environment. <p>\n",
    "\n",
    "<strong>Extract from sources, Transform in staging areas and Load to destination.</strong>\n",
    "\n",
    "<p>\n",
    "Traditionally, the overall accuracy of the ETL workflow has been a more important requirement than speed, although efficiency is usually an important factor in minimizing resource costs. To boost efficiency, <strong>data is fed through a data pipeline in smaller packets.</strong>\n",
    "\n",
    "\n",
    "<div>\n",
    "<img src=\"data-packets.png\" width=\"800\"/>\n",
    "</div>\n",
    "\n",
    "<p>\n",
    "With conventional ETL pipelines, data is processed in batches, usually on a repeating schedule that ranges from hours to days apart. For example, records accumulating in an Online Transaction Processing System (OLTP) can be moved as a daily batch process to one or more Online Analytics Processing (OLAP) systems where subsequent analysis of large volumes of historical data is carried out. "
   ]
  },
  {
   "attachments": {},
   "cell_type": "markdown",
   "metadata": {},
   "source": [
    "<h2>Staging Areas </h2>\n",
    "ETL pipelines are frequently used to integrate data from disparate and usually siloed systems within the enterprise. These systems can be from different vendors, locations, and divisions of the company, which can add significant operational complexity. <p> As an example,a cost accounting OLAP system might retrieve data from distinct OLTP systems utilized by the separate payroll, sales, and purchasing departments.\n",
    "\n",
    "<div>\n",
    "<img src=\"etl-data-integration.png\" width=\"800\"/>\n",
    "</div>\n",
    "\n",
    "ETL workflows can involve considerable complexity. <strong> By breaking down the details of the workflow into individual tasks and dependencies between those tasks, one can gain better control over that complexity. Workflow orchestration tools such as Apache Airflow do just that. Airflow represents your workflow as a directed acyclic graph (DAG).</strong>\n",
    "\n",
    "<p>\n",
    "<strong>Airflow tasks can be expressed using predefined templates, called operators. Popular operators include Bash operators, for running Bash code, and Python operators for running Python code, which makes them extremely versatile for deploying ETL pipelines and many other kinds of workflows into production. </strong>\n",
    "\n",
    "<div>\n",
    "<img src=\"apache-airflow-dag-workflow.png\" width=\"500\"/>\n",
    "</div>\n",
    "\n"
   ]
  },
  {
   "attachments": {},
   "cell_type": "markdown",
   "metadata": {},
   "source": [
    "<h1>ETL using Shell Scripting</h1>"
   ]
  },
  {
   "attachments": {},
   "cell_type": "markdown",
   "metadata": {},
   "source": [
    "\n",
    "<h1>Title</h1>\n",
    "<h2>Subtitle</h2>\n",
    "<strong>Bold</strong>\n",
    "<ul>\n",
    "<li>1</li>\n",
    "<li>2 </li>\n",
    "<li>3</li>\n",
    "</ul>\n",
    "\n",
    "<div>\n",
    "<img src=\"data-packets.png\" width=\"300\"/>\n",
    "</div>"
   ]
  }
 ],
 "metadata": {
  "kernelspec": {
   "display_name": "Python 3",
   "language": "python",
   "name": "python3"
  },
  "language_info": {
   "codemirror_mode": {
    "name": "ipython",
    "version": 3
   },
   "file_extension": ".py",
   "mimetype": "text/x-python",
   "name": "python",
   "nbconvert_exporter": "python",
   "pygments_lexer": "ipython3",
   "version": "3.10.13"
  },
  "orig_nbformat": 4,
  "vscode": {
   "interpreter": {
    "hash": "e7370f93d1d0cde622a1f8e1c04877d8463912d04d973331ad4851f04de6915a"
   }
  }
 },
 "nbformat": 4,
 "nbformat_minor": 2
}
