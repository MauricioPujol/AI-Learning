{
 "cells": [
  {
   "cell_type": "markdown",
   "metadata": {},
   "source": [
    "<h1>Course Introduction</h1>\n"
   ]
  },
  {
   "attachments": {},
   "cell_type": "markdown",
   "metadata": {},
   "source": [
    "ETL stands for Extract, Transform, and Load. It refers to the process of curating data from multiple sources and preparing the data for integration and loading into a destination platform such as a data warehouse or analytics environment.\n",
    "\n",
    "<p>\n",
    "ELT is similar but loads the data in its raw format, reserving the transformations for people to apply themselves in a ‘self-serve analytics’ destination environment. Both methods are typical examples of data pipeline deployments. \n",
    "\n",
    "<p>\n",
    "\n",
    "You will also learn about the tools, technologies, and use cases for the two main paradigms within data pipeline engineering: batch and streaming data pipelines. \n",
    "\n",
    "<p>\n",
    "\n",
    "You will further cement this knowledge by exploring and applying two popular open-source data pipeline tools: Apache Airflow and Apache Kafka."
   ]
  },
  {
   "attachments": {},
   "cell_type": "markdown",
   "metadata": {},
   "source": [
    "<h2>Extraction</h2>\n"
   ]
  },
  {
   "attachments": {},
   "cell_type": "markdown",
   "metadata": {},
   "source": [
    "What is Extraction?\n",
    "To extract data is to configure access to it and read it into an application.\n",
    "Normally this is an automated process.\n",
    "Some common methods include:\n",
    "Web scraping, where data is extracted from\n",
    "web pages using applications such as Python or R to parse the underlying HTML code, and\n",
    "Using APIs to programmatically connect to data and query it.\n",
    "The source data may be relatively static, such as a data archive"
   ]
  },
  {
   "attachments": {},
   "cell_type": "markdown",
   "metadata": {},
   "source": [
    "<h2>Transformation</h2>\n"
   ]
  },
  {
   "attachments": {},
   "cell_type": "markdown",
   "metadata": {},
   "source": [
    "Data transformation, also known as data wrangling, means\n",
    "processing data to make it conform to the requirements of both the\n",
    "target system and the intended use case for the curated data.\n",
    "Transformation can include any of the following kinds of processes:\n",
    "Cleaning: fixing errors or missing values.\n",
    "Filtering: selecting only what is needed.\n",
    "Joining disparate data sources: merging related data.\n",
    "Feature engineering: such as creating KPIs for dashboards or machine learning.\n",
    "Formatting and data typing: making the data compatible"
   ]
  },
  {
   "attachments": {},
   "cell_type": "markdown",
   "metadata": {},
   "source": [
    "<h2>Loading</h2>\n"
   ]
  },
  {
   "attachments": {},
   "cell_type": "markdown",
   "metadata": {},
   "source": [
    "Generally this just means writing data to some new destination environment.\n",
    "Typical destinations include databases, data warehouses, and data marts.\n",
    "The key goal of data loading is to make the data readily available for ingestion\n",
    "by analytics applications so that end users can gain value from it"
   ]
  },
  {
   "attachments": {},
   "cell_type": "markdown",
   "metadata": {},
   "source": [
    "<h1>ELT</h1>\n"
   ]
  },
  {
   "attachments": {},
   "cell_type": "markdown",
   "metadata": {},
   "source": [
    "\n",
    "​ELT is an acronym for a specific automated data pipeline engineering methodology.​\n",
    "ELT is similar to ETL in that similar stages are\n",
    "involved but the order in which they are performed is different. For ELT processes, data is acquired and directly loaded, as-is, into its destination environment.\n",
    "From its new home, usually a sophisticated analytics platform such as a data lake, "
   ]
  },
  {
   "attachments": {},
   "cell_type": "markdown",
   "metadata": {},
   "source": [
    "Cases include:\n",
    "Dealing with the massive swings in scale that come with implementing Big Data products,\n",
    "Calculating real time analytics on streaming Big Data, and\n",
    "Bringing together data sources that are highly distributed around the globe.\n",
    "In terms of speed, moving data is usually more of a bottleneck than processing it,\n",
    "so the less you move it, the better.\n",
    "<p>\n",
    "<strong>Therefore, ELT may be your best bet when you want\n",
    "flexibility in building a suite of data products from the same sources.</strong>\n",
    " "
   ]
  },
  {
   "attachments": {},
   "cell_type": "markdown",
   "metadata": {},
   "source": [
    "ELT is a flexible option that enables\n",
    "a variety of applications from the same source of data.\n",
    "Because you are working with a replica of the source data, there is no information loss.\n",
    "Many kinds of transformations can lead to information loss, and if these happen somewhere\n",
    "upstream in the pipeline, it may be a long time before you can have a change request met.\n",
    "Worse yet, the information may be forever lost if the raw data is not stored. "
   ]
  },
  {
   "attachments": {},
   "cell_type": "markdown",
   "metadata": {},
   "source": [
    "<h1>ETL v/s ELT</h1>"
   ]
  },
  {
   "attachments": {},
   "cell_type": "markdown",
   "metadata": {},
   "source": [
    "\n",
    "\n",
    "<ul>\n",
    "    <li>Transformations for ETL pipelines take place within the data pipeline, before the data\n",
    "reaches its destination, whereas\n",
    "Transformations for ELT are decoupled from the data pipeline, and happen in the destination\n",
    "environment at will.</li>\n",
    "<li>ETL is normally a fixed process meant to serve a very specific function, whereas\n",
    "ELT is flexible, making data readily available for self-serve analytics</li>\n",
    "<li>ETL processes traditionally handle structured, relational data, and on-premise computing\n",
    "resources handle the workflow.\n",
    "Thus, scalability can be a problem.\n",
    "ELT on the other hand, handles any kind of data, structured and unstructured. </li>\n",
    "<li> ETL pipelines take time and effort to modify, which means users must wait for the development\n",
    "team to implement their requested changes.\n",
    "ELT provides more agility. With some training in modern analytics applications, end users\n",
    "can easily connect to and experiment with the raw data </li>\n",
    "\n",
    "</ul>\n",
    "<strong>ELT is a natural evolution of ETL. However, conventional ETL still has many applications, and still has its place</strong>\n",
    " "
   ]
  },
  {
   "attachments": {},
   "cell_type": "markdown",
   "metadata": {},
   "source": [
    "<h1>Data Transformation Techniques</h1>"
   ]
  },
  {
   "attachments": {},
   "cell_type": "markdown",
   "metadata": {},
   "source": [
    "Data transformation is mainly about formatting the data to suit the application.\n",
    "This can involve many kinds of operations, such as:\n",
    "Data typing, which involves casting data to appropriate types, such as integer, float,\n",
    "string, object, and category.\n",
    "Data structuring, which includes converting one data format to another, such as JSON,\n",
    "XML, or CSV to database tables.\n",
    "Anonymizing and encrypting transformations to help ensure privacy and security. <p>\n",
    "\n",
    "Other types of transformations include:\n",
    "Cleaning operations for removing duplicate records and filling missing values.\n",
    "Normalizing data to ensure units are comparable, for example, using a common currency.\n",
    "Filtering, sorting, aggregating, and binning operations for accessing the right data at\n",
    "a suitable level of detail and in a sensible order.\n",
    "Joining, or merging, disparate data sources.\n",
    "\n",
    "\n",
    "<strong>Schema-on-write is the conventional approach used in ETL pipelines, where the data must\n",
    "be conformed to a defined schema prior to loading to a destination, such as a relational\n",
    "database. This comes at the cost of limiting the versatility of\n",
    "the data</strong>\n",
    "\n",
    " \n",
    "<strong>Schema-on-read relates to the modern ELT approach, where the schema is applied to the raw\n",
    "data after reading it from the raw data storage.\n",
    "This approach is versatile since it can obtain multiple views of the same source data using\n",
    "ad-hoc schemas.</strong>\n",
    "\n",
    "\n",
    "<p>\n",
    "Ways of losing information in transformation processes include filtering, aggregation,\n",
    "using edge computing devices, and lossy data compression. "
   ]
  },
  {
   "attachments": {},
   "cell_type": "markdown",
   "metadata": {},
   "source": [
    "<h1>Data Loading Techniques</h1>"
   ]
  },
  {
   "attachments": {},
   "cell_type": "markdown",
   "metadata": {},
   "source": [
    "<ul>\n",
    "    <li>Full loading: You can load an initial history into a database.</li>\n",
    "<li>Incremental</li>\n",
    "<li>Scheduled</li>\n",
    "<li>On Demand</li>\n",
    "<li>Batch</li>\n",
    "<li>Streaming</li>\n",
    "<li>Micro batch</li>\n",
    "<li>Push</li>\n",
    "<li>Pull</li>\n",
    "<li>Paralel </li>\n",
    "\n",
    "\n",
    "</ul>"
   ]
  },
  {
   "attachments": {},
   "cell_type": "markdown",
   "metadata": {},
   "source": [
    "<h1>Summary & Highlights</h1>"
   ]
  },
  {
   "attachments": {},
   "cell_type": "markdown",
   "metadata": {},
   "source": [
    "    ETL stands for Extract, Transform, and Load \n",
    "\n",
    "    Loading means writing the data to its destination environment \n",
    "\n",
    "    Cloud platforms are enabling ELT to become an emerging trend \n",
    "\n",
    "    The key differences between ETL and ELT include the place of transformation, flexibility, Big Data support, and time-to-insight \n",
    "\n",
    "    There is an increasing demand for access to raw data that drives the evolution from ETL, which is still used, to ELT, which enables ad-hoc, self-serve analytics \n",
    "\n",
    "    Data extraction often involves advanced technology including database querying, web scraping, and APIs  \n",
    "\n",
    "    Data transformation, such as typing, structuring, normalizing, aggregating, and cleaning, is about formatting data to suit the application \n",
    "\n",
    "    Information can be lost in transformation processes through filtering and aggregation \n",
    "\n",
    "    Data loading techniques include scheduled, on-demand, and incremental \n",
    "\n",
    "    Data can be loaded in batches or streamed continuously \n"
   ]
  },
  {
   "attachments": {},
   "cell_type": "markdown",
   "metadata": {},
   "source": [
    "<strong>xxx</strong>\n",
    "<h1>Title</h1>\n",
    "\n",
    "<ul>\n",
    "    <li>1</li>\n",
    "<li>2 </li>\n",
    "<li> 3 </li>\n",
    "\n",
    "</ul>\n"
   ]
  }
 ],
 "metadata": {
  "kernelspec": {
   "display_name": "Python 3",
   "language": "python",
   "name": "python3"
  },
  "language_info": {
   "codemirror_mode": {
    "name": "ipython",
    "version": 3
   },
   "file_extension": ".py",
   "mimetype": "text/x-python",
   "name": "python",
   "nbconvert_exporter": "python",
   "pygments_lexer": "ipython3",
   "version": "3.10.13"
  },
  "orig_nbformat": 4,
  "vscode": {
   "interpreter": {
    "hash": "e7370f93d1d0cde622a1f8e1c04877d8463912d04d973331ad4851f04de6915a"
   }
  }
 },
 "nbformat": 4,
 "nbformat_minor": 2
}
